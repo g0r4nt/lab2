{
 "cells": [
  {
   "cell_type": "markdown",
   "id": "64d44da9-558f-4634-9de8-de0f46f93cfe",
   "metadata": {},
   "source": [
    "## Часть 1: Введение в Pandas\n",
    "\n",
    "Pandas - это библиотека Python для работы с данными. Она предоставляет мощные инструменты для анализа и манипуляции данными.\n",
    "\n",
    "### Установка Pandas\n",
    "\n",
    "Для начала убедитесь, что у вас установлена библиотека Pandas. Если ее нет, установите ее с помощью команды:\n"
   ]
  },
  {
   "cell_type": "code",
   "execution_count": null,
   "id": "7484df51-b002-414c-ae42-75a2df57c78d",
   "metadata": {},
   "outputs": [],
   "source": [
    "!pip install pandas"
   ]
  },
  {
   "cell_type": "markdown",
   "id": "4b655e29-c3a5-4117-9860-2d6b9af62ac1",
   "metadata": {},
   "source": [
    "## Импорт библиотеки\n",
    "Давайте начнем с импорта библиотеки Pandas:"
   ]
  },
  {
   "cell_type": "code",
   "execution_count": 1,
   "id": "bfc3346f-3843-4aff-aec0-54321b9774f0",
   "metadata": {
    "tags": []
   },
   "outputs": [],
   "source": [
    "import pandas as pd"
   ]
  },
  {
   "cell_type": "markdown",
   "id": "ea8530e9-c179-48c1-8043-ff87f415ee67",
   "metadata": {},
   "source": [
    "## Часть 2: Работа с данными\n",
    "### Чтение данных\n",
    "Мы будем использовать датасет Titanic. Давайте прочитаем данные из CSV файла."
   ]
  },
  {
   "cell_type": "code",
   "execution_count": null,
   "id": "fa5deec6-c85e-4d88-89df-bea7d75fcbba",
   "metadata": {},
   "outputs": [],
   "source": [
    "import pandas as pd\n",
    "\n",
    "# Укажите путь к вашему CSV файлу с данными о Titanic\n",
    "file_path = 'путь_к_файлу.csv'\n",
    "\n",
    "# Чтение данных из CSV файла в DataFrame\n",
    "titanic_data = pd.read_csv(file_path)\n",
    "\n",
    "# Вывод первых нескольких строк DataFrame для проверки\n",
    "titanic_data.head()"
   ]
  },
  {
   "cell_type": "markdown",
   "id": "07dfd488-4960-495e-80d8-9cf5903449b6",
   "metadata": {},
   "source": [
    "### Предпросмотр данных\n",
    "Для первого ознакомления с данными давайте выведем первые несколько строк."
   ]
  },
  {
   "cell_type": "code",
   "execution_count": null,
   "id": "216e104c-259f-4ecd-9cd4-40362f61ca4e",
   "metadata": {},
   "outputs": [],
   "source": [
    "print(titanic_data.head(5))"
   ]
  },
  {
   "cell_type": "markdown",
   "id": "b7ba5f57-07e1-4c0f-9b55-9d78638ee2cc",
   "metadata": {},
   "source": [
    "### Информация о данных\n",
    "Чтобы получить общую информацию о данных, воспользуйтесь методом .info()."
   ]
  },
  {
   "cell_type": "code",
   "execution_count": null,
   "id": "43650b4f-f3e7-4480-b874-b5552f564383",
   "metadata": {},
   "outputs": [],
   "source": [
    "import pandas as pd\n",
    "\n",
    "# Загрузка данных из файла\n",
    "titanic_data = pd.read_csv('titanic.csv')\n",
    "\n",
    "# Общая информация о датасете\n",
    "info = titanic_data.info()\n",
    "\n",
    "# Статистика по числовым колонкам\n",
    "describe = titanic_data.describe()\n",
    "\n",
    "# Вывод первых нескольких строк датасета\n",
    "head = titanic_data.head()\n",
    "\n",
    "# Вывод последних нескольких строк датасета\n",
    "tail = titanic_data.tail()"
   ]
  },
  {
   "cell_type": "markdown",
   "id": "a6857118-a82e-4586-a933-4eb0df9cb74e",
   "metadata": {},
   "source": [
    "### Работа с NaN\n",
    "Часто данные содержат пропущенные значения, которые представляются как NaN (Not a Number). Pandas предоставляет удобные методы для работы с ними.\n",
    "\n",
    "Проверка на наличие NaN. Методы fillna и dropna возвращают новые Dataframe, проверьте нет ли в них NaN"
   ]
  },
  {
   "cell_type": "code",
   "execution_count": 2,
   "id": "f7910fde-24f7-4cf8-991d-01f08bc45b63",
   "metadata": {
    "tags": []
   },
   "outputs": [],
   "source": [
    "import pandas as pd\n",
    "\n",
    "# Загрузка данных из файла\n",
    "titanic_data = pd.read_csv('titanic.csv')\n",
    "\n",
    "# Проверка наличия NaN в DataFrame\n",
    "nan_check = titanic_data.isna().any()\n",
    "\n",
    "# Заполнение NaN в DataFrame\n",
    "filled_data = titanic_data.fillna(value=your_value)  # Замените your_value на значение, которым хотите заполнить NaN\n",
    "\n",
    "# Удаление строк с NaN в DataFrame\n",
    "dropped_data = titanic_data.dropna()\n",
    "\n",
    "# Проверка наличия NaN в новом DataFrame после заполнения\n",
    "nan_check_filled = filled_data.isna().any()\n",
    "\n",
    "# Проверка наличия NaN в новом DataFrame после удаления\n",
    "nan_check_dropped = dropped_data.isna().any()"
   ]
  },
  {
   "cell_type": "markdown",
   "id": "1dadeaf7-e214-4552-b054-8e4a03714f72",
   "metadata": {},
   "source": [
    "Заполнение NaN"
   ]
  },
  {
   "cell_type": "code",
   "execution_count": null,
   "id": "7d901187-75a9-497e-8774-6e0dde584197",
   "metadata": {},
   "outputs": [],
   "source": [
    "import pandas as pd\n",
    "\n",
    "# Загрузка данных из файла\n",
    "titanic_data = pd.read_csv('titanic.csv')\n",
    "\n",
    "# Заполнение NaN значениями нуля\n",
    "filled_data_zero = titanic_data.fillna(0)\n",
    "\n",
    "# Проверка наличия NaN в новом DataFrame после заполнения\n",
    "nan_check_filled_zero = filled_data_zero.isna().any()\n",
    "\n",
    "# Вывод первых нескольких строк заполненного DataFrame\n",
    "print(filled_data_zero.head())"
   ]
  },
  {
   "cell_type": "markdown",
   "id": "6f32fddb-ec60-456b-8958-5c81b0357d49",
   "metadata": {},
   "source": [
    "Удаление строк с NaN"
   ]
  },
  {
   "cell_type": "code",
   "execution_count": 3,
   "id": "4d188deb-0818-4b01-b3a5-9d20d2166d10",
   "metadata": {
    "tags": []
   },
   "outputs": [],
   "source": [
    "import pandas as pd\n",
    "\n",
    "# Загрузка данных из файла\n",
    "titanic_data = pd.read_csv('titanic.csv')\n",
    "\n",
    "# Удаление строк с NaN значениями\n",
    "data_without_nan = titanic_data.dropna()\n",
    "\n",
    "# Проверка наличия NaN в новом DataFrame после удаления\n",
    "nan_check_after_drop = data_without_nan.isna().any()\n",
    "\n",
    "# Вывод первых нескольких строк нового DataFrame\n",
    "print(data_without_nan.head())"
   ]
  },
  {
   "cell_type": "markdown",
   "id": "7a4ff131-1593-4cd2-b2bc-e0ddb2442d3b",
   "metadata": {},
   "source": [
    "## Часть 3: Обработка DataFrame\n",
    "### Выбор данных\n",
    "Pandas позволяет выбирать данные по индексам, меткам столбцов и условиям."
   ]
  },
  {
   "cell_type": "code",
   "execution_count": 4,
   "id": "d11f6114-ce4b-4e71-afec-adf1d8c1ec6e",
   "metadata": {
    "tags": []
   },
   "outputs": [],
   "source": [
    "import pandas as pd\n",
    "\n",
    "# Загрузка данных из файла\n",
    "titanic_data = pd.read_csv('titanic.csv')\n",
    "\n",
    "# Выбор столбцов по метке\n",
    "selected_column = titanic_data['название_столбца']\n",
    "\n",
    "# Выбор нескольких столбцов\n",
    "selected_columns = titanic_data[['столбец_1', 'столбец_2']]\n",
    "\n",
    "# Выбор строк по индексу\n",
    "selected_rows = titanic_data.loc[5:10]\n",
    "\n",
    "# Выбор строк и столбцов по условию\n",
    "selected_condition = titanic_data[(titanic_data['Sex'] == 'male') & (titanic_data['Age'] > 30)]\n",
    "\n",
    "# Вывод результатов\n",
    "print(selected_column)\n",
    "print(selected_columns)\n",
    "print(selected_rows)\n",
    "print(selected_condition)"
   ]
  },
  {
   "cell_type": "markdown",
   "id": "f3102de8-d2fd-4593-bf26-721316ae51e9",
   "metadata": {},
   "source": [
    "### Сортировка данных\n",
    "Сортировка данных по значениям столбцов."
   ]
  },
  {
   "cell_type": "code",
   "execution_count": 5,
   "id": "de5e850c-e920-4ae4-aadb-3f1953438b09",
   "metadata": {
    "tags": []
   },
   "outputs": [],
   "source": [
    "import pandas as pd\n",
    "\n",
    "# Загрузка данных из файла\n",
    "titanic_data = pd.read_csv('titanic.csv')\n",
    "\n",
    "# Сортировка данных первого столбца по возрастанию\n",
    "sorted_data = titanic_data.sort_values(by='First_Column')\n",
    "\n",
    "# Вывод отсортированных данных\n",
    "print(sorted_data.head())  # Вывод первых строк отсортированных данных"
   ]
  },
  {
   "cell_type": "markdown",
   "id": "eab3cd85-5e96-4228-8834-9ef53b93689a",
   "metadata": {},
   "source": [
    "### Группировка данных\n",
    "Pandas также позволяет группировать данные и выполнять агрегирующие операции."
   ]
  },
  {
   "cell_type": "code",
   "execution_count": 6,
   "id": "25ced901-0482-49a8-8c12-d192e84e3fb3",
   "metadata": {
    "tags": []
   },
   "outputs": [],
   "source": [
    "titanic.groupby('Pclass').mean(1)['Survived']"
   ]
  },
  {
   "cell_type": "code",
   "execution_count": null,
   "id": "48f64c2c",
   "metadata": {},
   "outputs": [],
   "source": [
    "Pclass\n",
    "1    0.629630\n",
    "2    0.472826\n",
    "3    0.242363\n",
    "Name: Survived, dtype: float64"
   ]
  },
  {
   "cell_type": "markdown",
   "id": "d0355db7-7bf9-46d1-ad51-5f2eddc42501",
   "metadata": {},
   "source": [
    "## Часть 4: Задания для практики\n",
    "Прочитайте данные из файла 'titanic.csv'.\n",
    "Проверьте, есть ли пропущенные значения в данных и заполните их нулями.\n",
    "Выведите первые 10 строк данных.\n",
    "Выберите только те строки, где значение в столбце 'Age' больше 30.\n",
    "Отсортируйте данные по столбцу 'Fare' в порядке убывания.\n",
    "Сгруппируйте данные по столбцу 'Pclass' и вычислите средний возраст ('Age') для каждого класса."
   ]
  },
  {
   "cell_type": "code",
   "execution_count": null,
   "id": "a1b4deaa-cd06-41b3-8084-5c2d3a867811",
   "metadata": {},
   "outputs": [],
   "source": [
    "titanic_df = pd.read_csv('titanic.csv')\n",
    "\n",
    "titanic_df.fillna(0)\n",
    "titanic_df.loc[0:10]\n",
    "titanic_df[titanic_df['Age'] > 30]\n",
    "titanic_df.sort_values(by='Fare', ascending=False)\n",
    "titanic_df.groupby('Pclass').mean(1)['Age']"
   ]
  },
  {
   "cell_type": "code",
   "execution_count": null,
   "id": "494042ba",
   "metadata": {},
   "outputs": [],
   "source": [
    "Pclass\n",
    "1    38.233441\n",
    "2    29.877630\n",
    "3    25.140620\n",
    "Name: Age, dtype: float64"
   ]
  }
 ],
 "metadata": {
  "kernelspec": {
   "display_name": "Python 3 (ipykernel)",
   "language": "python",
   "name": "python3"
  },
  "language_info": {
   "codemirror_mode": {
    "name": "ipython",
    "version": 3
   },
   "file_extension": ".py",
   "mimetype": "text/x-python",
   "name": "python",
   "nbconvert_exporter": "python",
   "pygments_lexer": "ipython3",
   "version": "3.11.5"
  }
 },
 "nbformat": 4,
 "nbformat_minor": 5
}
